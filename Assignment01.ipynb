{
 "cells": [
  {
   "cell_type": "code",
   "execution_count": 19,
   "id": "1296b5cf",
   "metadata": {},
   "outputs": [
    {
     "data": {
      "image/png": "[encoded data removed]",
      "text/plain": [
       "<Figure size 432x288 with 1 Axes>"
      ]
     },
     "metadata": {
      "needs_background": "light"
     },
     "output_type": "display_data"
    }
   ],
   "source": [
    "import random\n",
    "import math\n",
    "x1=[]\n",
    "x2=[]\n",
    "y=[]\n",
    "\n",
    "for i in range(120):\n",
    "    x1.append(random.randint(0,200))\n",
    "    x2.append(random.randint(0,200))\n",
    "    if(x1[i]>x2[i]):\n",
    "        y.append(1)\n",
    "    else:\n",
    "        y.append(0)\n",
    "        import matplotlib.pyplot as plt\n",
    "for i in range(len(y)):\n",
    "    if y[i]==0:\n",
    "        plt.plot(x1[i],x2[i],\"b+\")\n",
    "    else:\n",
    "        plt.plot(x1[i],x2[i],\"g+\")"
   ]
  },
  {
   "cell_type": "code",
   "execution_count": 18,
   "id": "cc997e92",
   "metadata": {},
   "outputs": [
    {
     "ename": "IndexError",
     "evalue": "list index out of range",
     "output_type": "error",
     "traceback": [
      "\u001b[1;31m---------------------------------------------------------------------------\u001b[0m",
      "\u001b[1;31mIndexError\u001b[0m                                Traceback (most recent call last)",
      "\u001b[1;32m~\\AppData\\Local\\Temp/ipykernel_13096/1239975.py\u001b[0m in \u001b[0;36m<module>\u001b[1;34m\u001b[0m\n\u001b[0;32m     15\u001b[0m             \u001b[0mpred\u001b[0m\u001b[1;33m=\u001b[0m\u001b[1;36m1\u001b[0m\u001b[1;33m\u001b[0m\u001b[1;33m\u001b[0m\u001b[0m\n\u001b[0;32m     16\u001b[0m \u001b[1;33m\u001b[0m\u001b[0m\n\u001b[1;32m---> 17\u001b[1;33m         \u001b[0merror\u001b[0m \u001b[1;33m=\u001b[0m \u001b[0my\u001b[0m\u001b[1;33m[\u001b[0m\u001b[0mi\u001b[0m\u001b[1;33m]\u001b[0m\u001b[1;33m-\u001b[0m\u001b[0mpred\u001b[0m\u001b[1;33m\u001b[0m\u001b[1;33m\u001b[0m\u001b[0m\n\u001b[0m\u001b[0;32m     18\u001b[0m         \u001b[1;32mif\u001b[0m \u001b[0merror\u001b[0m\u001b[1;33m!=\u001b[0m\u001b[1;36m0\u001b[0m\u001b[1;33m:\u001b[0m\u001b[1;33m\u001b[0m\u001b[1;33m\u001b[0m\u001b[0m\n\u001b[0;32m     19\u001b[0m             \u001b[0mcount\u001b[0m\u001b[1;33m=\u001b[0m\u001b[1;36m0\u001b[0m\u001b[1;33m\u001b[0m\u001b[1;33m\u001b[0m\u001b[0m\n",
      "\u001b[1;31mIndexError\u001b[0m: list index out of range"
     ]
    }
   ],
   "source": [
    "w=[random.random(),random.random()]\n",
    "b=random.random()\n",
    "lr=0.5\n",
    "\n",
    "theta=0.5\n",
    "epoch=0\n",
    "count=0\n",
    "loss=[]\n",
    "while count<len(x1):\n",
    "    total_error=0\n",
    "    for i in range(len(x1)):\n",
    "        xp=w[0]*x1[i]+w[1]*x2[i]+b\n",
    "        pred=0\n",
    "        if xp>theta:\n",
    "            pred=1\n",
    "            \n",
    "        error = y[i]-pred\n",
    "        if error!=0:\n",
    "            count=0\n",
    "            total_error+=math.sqrt(error**2)\n",
    "            w[0]+=lr*error*x1[i]\n",
    "            w[1]+=lr*error*x2[i]\n",
    "            b+=lr*error\n",
    "        else:\n",
    "            count+=1\n",
    "    loss.append(1/len(x1)*total_error)\n",
    "    plt.figure(figsize=(15,5))\n",
    "        \n",
    "    \n",
    "    plt.subplot(1,2,1)\n",
    "    for i in range(len(y)):\n",
    "        if y[i]==0:\n",
    "            plt.plot(x1[i],x2[i],\"ro\")\n",
    "        else:\n",
    "            plt.plot(x1[i],x2[i],\"go\")\n",
    "        plt.xlim(-5,120)\n",
    "        plt.ylim(-5,120)\n",
    "        xint=(theta-b)/w[0]\n",
    "        yint=(theta-b)/w[1]\n",
    "        slope=-yint/xint\n",
    "        x=plt.xlim()\n",
    "        y=[]\n",
    "        for i in x:\n",
    "            y.append(slope*i+yint)\n",
    "        plt.plot(x,y, 'w-',linewidth=5)\n",
    "        plt.fill_between(x=[-5,120],y1=-5,y2=120, color='g',alpha=.01)        \n",
    "    plt.title(f\"Epoch ={epoch} and Total Error={total_error}\")\n",
    "    plt.subplot(1,2,2)\n",
    "    plt.ylim([-.5,1])\n",
    "    plt.plot(loss, alpha=0.3)\n",
    "    if epoch > 10:\n",
    "        avg = savgol_filter(loss, 11, 3)\n",
    "        plt.plot(avg, 'r--', lw=3)\n",
    "    \n",
    "    plt.show()\n",
    "    print(f\"Epoch: {epoch} Loss: {loss[-1]} and y={y} and x={xint}\")\n",
    "    epoch+=1\n",
    "        \n"
   ]
  },
  {
   "cell_type": "code",
   "execution_count": null,
   "id": "fd88ddec",
   "metadata": {},
   "outputs": [],
   "source": []
  }
 ],
 "metadata": {
  "kernelspec": {
   "display_name": "Python 3 (ipykernel)",
   "language": "python",
   "name": "python3"
  },
  "language_info": {
   "codemirror_mode": {
    "name": "ipython",
    "version": 3
   },
   "file_extension": ".py",
   "mimetype": "text/x-python",
   "name": "python",
   "nbconvert_exporter": "python",
   "pygments_lexer": "ipython3",
   "version": "3.9.7"
  }
 },
 "nbformat": 4,
 "nbformat_minor": 5
}
